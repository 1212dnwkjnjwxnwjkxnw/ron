{
  "nbformat": 4,
  "nbformat_minor": 0,
  "metadata": {
    "colab": {
      "name": "Ron, screenshot to data.ipynb",
      "provenance": []
    },
    "kernelspec": {
      "name": "python3",
      "display_name": "Python 3"
    }
  },
  "cells": [
    {
      "cell_type": "code",
      "metadata": {
        "id": "z8A3EFv1OCj_"
      },
      "source": [
        "!sudo apt install tesseract-ocr\r\n",
        "!pip install pytesseract\r\n",
        "\r\n",
        "import pytesseract\r\n",
        "import shutil\r\n",
        "import matplotlib.pyplot as plt\r\n",
        "import os\r\n",
        "import random\r\n",
        "from PIL import Image\r\n",
        "import PIL.ImageOps \r\n",
        "import cv2\r\n",
        "import numpy as np\r\n",
        "import glob"
      ],
      "execution_count": null,
      "outputs": []
    },
    {
      "cell_type": "code",
      "metadata": {
        "id": "9yqc0v2eOEy8"
      },
      "source": [
        "from google.colab import files\r\n",
        "uploaded_image = files.upload()\r\n",
        "filename = next(iter(uploaded_image))"
      ],
      "execution_count": null,
      "outputs": []
    },
    {
      "cell_type": "code",
      "metadata": {
        "id": "ZOOcv-NVOGZn"
      },
      "source": [
        "image = Image.open(filename)\r\n",
        "inverted_image = PIL.ImageOps.invert(image)\r\n",
        "inverted_image.save(\"score-inv.png\")\r\n",
        "im = Image.open(\"score-inv.png\") \r\n",
        "\r\n",
        "width = im.size[0]\r\n",
        "height = im.size[1]\r\n",
        "\r\n",
        "left = width/4.15\r\n",
        "top = height/4\r\n",
        "right = width/1.32\r\n",
        "bottom = height/1.45\r\n",
        "  \r\n",
        "im1 = im.crop((left, top, right, bottom))\r\n",
        "im1.save(\"score-inv-cropped.png\")\r\n",
        "img = cv2.imread('score-inv-cropped.png')\r\n",
        "\r\n",
        "df = pytesseract.image_to_data(img,lang='eng', output_type='data.frame')\r\n",
        "df.to_csv('result.csv')"
      ],
      "execution_count": null,
      "outputs": []
    },
    {
      "cell_type": "code",
      "metadata": {
        "id": "s3CRTpaBOIPR"
      },
      "source": [
        "tempdir='/content/*'\r\n",
        "files = glob.glob(tempdir)\r\n",
        "try:\r\n",
        "    for f in files:\r\n",
        "      os.remove(f)\r\n",
        "except Exception:\r\n",
        "    pass"
      ],
      "execution_count": null,
      "outputs": []
    }
  ]
}
